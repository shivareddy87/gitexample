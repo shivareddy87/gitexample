{
    "cells": [
        {
            "cell_type": "markdown",
            "metadata": {
                "collapsed": true
            },
            "source": "<h1>Introduction"
        },
        {
            "cell_type": "markdown",
            "metadata": {},
            "source": "A business owner of successful Indian chain restaurants wants to open his new branch in NY and NJ areas. \nHe is not aware of the area and he wants to identify the best city in these two states to open the restaurants by using the density of already existing Indian restaurants in the area."
        },
        {
            "cell_type": "markdown",
            "metadata": {},
            "source": "<h1>Data Section"
        },
        {
            "cell_type": "markdown",
            "metadata": {},
            "source": "For this project I will be using Four Square API.\nI will be scouting for the Indian restaurants in New York City, Newark, Edison, Elizabeth, Secaucus. These are some of the cities in that geographical area with highest number of Indian communities and Indian restaurants."
        },
        {
            "cell_type": "markdown",
            "metadata": {},
            "source": "<h1>Project Plan"
        },
        {
            "cell_type": "markdown",
            "metadata": {},
            "source": "For this project I will be using data from Foursquare API to assess the density of Indian restaurants through venues in the cities mentioned in Data Section.\nFrom Four Square developer website I got the category of Indian Restaurants - 4bf58dd8d48988d10f941735.\nI will be using the coordinates of these restaurants to map them on the folium maps imported for visual inspection.\nNext, I will also try to find the centroid of these restaurants in every city.\nOnce I have the centroid Coordinates for each city, I will be calculating the distance of each restaurant from the centroid."
        },
        {
            "cell_type": "code",
            "execution_count": null,
            "metadata": {},
            "outputs": [],
            "source": ""
        }
    ],
    "metadata": {
        "kernelspec": {
            "display_name": "Python 3.6",
            "language": "python",
            "name": "python3"
        },
        "language_info": {
            "codemirror_mode": {
                "name": "ipython",
                "version": 3
            },
            "file_extension": ".py",
            "mimetype": "text/x-python",
            "name": "python",
            "nbconvert_exporter": "python",
            "pygments_lexer": "ipython3",
            "version": "3.6.9"
        }
    },
    "nbformat": 4,
    "nbformat_minor": 1
}